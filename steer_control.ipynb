{
 "cells": [
  {
   "cell_type": "code",
   "execution_count": 1,
   "metadata": {},
   "outputs": [
    {
     "ename": "AttributeError",
     "evalue": "module 'ctypes' has no attribute 'windll'",
     "output_type": "error",
     "traceback": [
      "\u001b[0;31m---------------------------------------------------------------------------\u001b[0m",
      "\u001b[0;31mAttributeError\u001b[0m                            Traceback (most recent call last)",
      "\u001b[0;32m<ipython-input-1-2f9a69d04409>\u001b[0m in \u001b[0;36m<module>\u001b[0;34m\u001b[0m\n\u001b[1;32m      1\u001b[0m \u001b[0;32mimport\u001b[0m \u001b[0mcv2\u001b[0m\u001b[0;34m\u001b[0m\u001b[0;34m\u001b[0m\u001b[0m\n\u001b[1;32m      2\u001b[0m \u001b[0;32mimport\u001b[0m \u001b[0mnumpy\u001b[0m \u001b[0;32mas\u001b[0m \u001b[0mnp\u001b[0m\u001b[0;34m\u001b[0m\u001b[0;34m\u001b[0m\u001b[0m\n\u001b[0;32m----> 3\u001b[0;31m \u001b[0;32mfrom\u001b[0m \u001b[0mdirectkeys\u001b[0m \u001b[0;32mimport\u001b[0m \u001b[0mD\u001b[0m\u001b[0;34m,\u001b[0m\u001b[0mA\u001b[0m\u001b[0;34m\u001b[0m\u001b[0;34m\u001b[0m\u001b[0m\n\u001b[0m\u001b[1;32m      4\u001b[0m \u001b[0;32mfrom\u001b[0m \u001b[0mpynput\u001b[0m\u001b[0;34m.\u001b[0m\u001b[0mkeyboard\u001b[0m \u001b[0;32mimport\u001b[0m \u001b[0mController\u001b[0m\u001b[0;34m,\u001b[0m\u001b[0mKey\u001b[0m\u001b[0;34m\u001b[0m\u001b[0;34m\u001b[0m\u001b[0m\n",
      "\u001b[0;32m~/Desktop/workingenv/my-project-env/WEEK7/directkeys.py\u001b[0m in \u001b[0;36m<module>\u001b[0;34m\u001b[0m\n\u001b[1;32m      2\u001b[0m \u001b[0;32mimport\u001b[0m \u001b[0mtime\u001b[0m\u001b[0;34m\u001b[0m\u001b[0;34m\u001b[0m\u001b[0m\n\u001b[1;32m      3\u001b[0m \u001b[0;34m\u001b[0m\u001b[0m\n\u001b[0;32m----> 4\u001b[0;31m \u001b[0mSendInput\u001b[0m \u001b[0;34m=\u001b[0m \u001b[0mctypes\u001b[0m\u001b[0;34m.\u001b[0m\u001b[0mwindll\u001b[0m\u001b[0;34m.\u001b[0m\u001b[0muser32\u001b[0m\u001b[0;34m.\u001b[0m\u001b[0mSendInput\u001b[0m\u001b[0;34m\u001b[0m\u001b[0;34m\u001b[0m\u001b[0m\n\u001b[0m\u001b[1;32m      5\u001b[0m \u001b[0;34m\u001b[0m\u001b[0m\n\u001b[1;32m      6\u001b[0m \u001b[0mW\u001b[0m \u001b[0;34m=\u001b[0m \u001b[0;36m0x11\u001b[0m\u001b[0;34m\u001b[0m\u001b[0;34m\u001b[0m\u001b[0m\n",
      "\u001b[0;31mAttributeError\u001b[0m: module 'ctypes' has no attribute 'windll'"
     ]
    }
   ],
   "source": [
    "import cv2\n",
    "import numpy as np\n",
    "from directkeys import D,A\n",
    "from pynput.keyboard import Controller,Key"
   ]
  },
  {
   "cell_type": "code",
   "execution_count": 2,
   "metadata": {},
   "outputs": [],
   "source": [
    "def setValues(x): \n",
    "   print(\"\") \n",
    "   \n",
    "  \n",
    "# Creating the trackbars needed for  \n",
    "# adjusting the marker colour These  \n",
    "# trackbars will be used for setting  \n",
    "# the upper and lower ranges of the \n",
    "# HSV required for particular colour \n",
    "cv2.namedWindow(\"Color detectors\") \n",
    "cv2.createTrackbar(\"Upper Hue\", \"Color detectors\", \n",
    "                   153, 180, setValues) \n",
    "cv2.createTrackbar(\"Upper Saturation\", \"Color detectors\", \n",
    "                   255, 255, setValues) \n",
    "cv2.createTrackbar(\"Upper Value\", \"Color detectors\",  \n",
    "                   255, 255, setValues) \n",
    "cv2.createTrackbar(\"Lower Hue\", \"Color detectors\", \n",
    "                   64, 180, setValues) \n",
    "cv2.createTrackbar(\"Lower Saturation\", \"Color detectors\",  \n",
    "                   72, 255, setValues) \n",
    "cv2.createTrackbar(\"Lower Value\", \"Color detectors\",  \n",
    "                   49, 255, setValues) \n",
    "\n",
    "\n",
    "kernel = np.ones((5, 5), np.uint8) \n",
    "t=0\n",
    "s=0"
   ]
  },
  {
   "cell_type": "code",
   "execution_count": 3,
   "metadata": {},
   "outputs": [],
   "source": [
    "cap = cv2.VideoCapture(0)\n",
    "while True:\n",
    "    ret,frame = cap.read()\n",
    "    frame= cv2.flip(frame,1)\n",
    "    hsv = cv2.cvtColor(frame,cv2.COLOR_BGR2HSV)\n",
    "    u_h = cv2.getTrackbarPos(\"Upper Hue\", \n",
    "                               \"Color detectors\") \n",
    "    u_s = cv2.getTrackbarPos(\"Upper Saturation\", \n",
    "                                      \"Color detectors\") \n",
    "    u_v = cv2.getTrackbarPos(\"Upper Value\", \n",
    "                                 \"Color detectors\") \n",
    "    l_h = cv2.getTrackbarPos(\"Lower Hue\", \n",
    "                               \"Color detectors\") \n",
    "    l_s = cv2.getTrackbarPos(\"Lower Saturation\", \n",
    "                                      \"Color detectors\") \n",
    "    l_v = cv2.getTrackbarPos(\"Lower Value\", \n",
    "                                 \"Color detectors\") \n",
    "\n",
    "    Upper_hsv = np.array([u_h,u_s,u_v]) \n",
    "    Lower_hsv = np.array([l_h,l_s,l_v]) \n",
    "    \n",
    "    mask = cv2.inRange(hsv,Lower_hsv,Upper_hsv)\n",
    "    mask = cv2.erode(mask, kernel, iterations = 1) \n",
    "    mask = cv2.morphologyEx(mask, cv2.MORPH_OPEN, kernel) \n",
    "    mask = cv2.dilate(mask, kernel, iterations = 1) \n",
    "    cnts,_ = cv2.findContours(mask.copy(),cv2.RETR_EXTERNAL, cv2.CHAIN_APPROX_SIMPLE)\n",
    "    center = None\n",
    "    \n",
    "    frame = cv2.rectangle(frame, (80, 150), (240, 330),  \n",
    "                          (122, 122, 122), -1) \n",
    "    frame = cv2.rectangle(frame, (380, 150),(540, 330), \n",
    "                          (122, 122, 122), -1) \n",
    "    \n",
    "    cv2.putText(frame, \"LEFT\", (140, 180), \n",
    "                cv2.FONT_HERSHEY_SIMPLEX, .75, \n",
    "                (0, 0,0), 2, cv2.LINE_AA) \n",
    "    \n",
    "    cv2.putText(frame, \"<<<-----\", (80, 250), \n",
    "                cv2.FONT_HERSHEY_SIMPLEX, .8, \n",
    "                (255, 255, 255), 2, cv2.LINE_AA) \n",
    "    cv2.putText(frame, \"RIGHT\", (420, 180), \n",
    "                cv2.FONT_HERSHEY_SIMPLEX, .75, \n",
    "                (0,0,0), 2, cv2.LINE_AA) \n",
    "      \n",
    "    cv2.putText(frame, \"----->>>\", (380, 250),  \n",
    "                cv2.FONT_HERSHEY_SIMPLEX, .8, \n",
    "                (255, 255, 255), 2, cv2.LINE_AA)\n",
    "    \n",
    "    if len(cnts)>0:\n",
    "        cnt = sorted(cnts,key = cv2.contourArea , reverse = True)[0]\n",
    "        ((x,y),radius) = cv2.minEnclosingCircle(cnt) \n",
    "        \n",
    "        cv2.circle(frame , (int (x),int (y)),int(radius),(0,255,255),2)\n",
    "        M = cv2.moments(cnt)\n",
    "        center = (int(M['m10'] / M['m00']), int(M['m01'] / M['m00']))\n",
    "        keyboard =Controller()\n",
    "        \n",
    "        if center[1]<=250:\n",
    "            if 80<=center[0]<=240:\n",
    "                t=1\n",
    "                keyboard.press(Key.left)\n",
    "            else:\n",
    "                if t==1:\n",
    "                    keyboard.release(Key.left)\n",
    "                    t=0\n",
    "                \n",
    "            if 380<=center[0]<=540:\n",
    "                s=1\n",
    "                keyboard.press(Key.right)\n",
    "            else:\n",
    "                if s==1:\n",
    "                    keyboard.release(Key.right)\n",
    "                    s=0      \n",
    "        \n",
    "    if cv2.waitKey(1) & 0xFF == ord(\"q\"): \n",
    "        break\n",
    "    \n",
    "    cv2.imshow(\"Tracking\", frame)\n",
    "    cv2.imshow(\"mask\", mask) \n",
    "        \n",
    "    \n",
    "cap.release() \n",
    "cv2.destroyAllWindows() \n"
   ]
  },
  {
   "cell_type": "code",
   "execution_count": 4,
   "metadata": {},
   "outputs": [],
   "source": []
  },
  {
   "cell_type": "code",
   "execution_count": 5,
   "metadata": {},
   "outputs": [
    {
     "ename": "TypeError",
     "evalue": "bad operand type for unary -: '_Helper'",
     "output_type": "error",
     "traceback": [
      "\u001b[0;31m---------------------------------------------------------------------------\u001b[0m",
      "\u001b[0;31mTypeError\u001b[0m                                 Traceback (most recent call last)",
      "\u001b[0;32m<ipython-input-5-76d959b46d7f>\u001b[0m in \u001b[0;36m<module>\u001b[0;34m\u001b[0m\n\u001b[0;32m----> 1\u001b[0;31m \u001b[0mkeyboard\u001b[0m \u001b[0;34m-\u001b[0m\u001b[0;34m-\u001b[0m\u001b[0mhelp\u001b[0m\u001b[0;34m\u001b[0m\u001b[0;34m\u001b[0m\u001b[0m\n\u001b[0m",
      "\u001b[0;31mTypeError\u001b[0m: bad operand type for unary -: '_Helper'"
     ]
    }
   ],
   "source": []
  },
  {
   "cell_type": "code",
   "execution_count": null,
   "metadata": {},
   "outputs": [],
   "source": []
  }
 ],
 "metadata": {
  "kernelspec": {
   "display_name": "Python 3",
   "language": "python",
   "name": "python3"
  },
  "language_info": {
   "codemirror_mode": {
    "name": "ipython",
    "version": 3
   },
   "file_extension": ".py",
   "mimetype": "text/x-python",
   "name": "python",
   "nbconvert_exporter": "python",
   "pygments_lexer": "ipython3",
   "version": "3.8.3"
  }
 },
 "nbformat": 4,
 "nbformat_minor": 4
}
